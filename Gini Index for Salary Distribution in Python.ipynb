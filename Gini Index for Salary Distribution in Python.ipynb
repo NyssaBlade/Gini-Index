{
 "cells": [
  {
   "cell_type": "markdown",
   "id": "8bd792b6-0a49-4c9f-b16b-b7aa6fbaef8a",
   "metadata": {},
   "source": [
    "<h1> Gini Index</h1>\n",
    "\n",
    "or <strong><em> Gini Ratio </em></strong>  - is a measure of distribution between groups commonly used in statistics. \n",
    "<p>In this notebook I will find Gini Index for salaries distribution of the whole population of the dataset. \n",
    "<p>I do not perform any dataset transformations as I need only the \"salary\" column!"
   ]
  },
  {
   "cell_type": "code",
   "execution_count": 1,
   "id": "893464d5-0472-416b-9edb-fe5b9ca87ef8",
   "metadata": {},
   "outputs": [],
   "source": [
    "import matplotlib.pyplot as plt\n",
    "import numpy as np\n",
    "import scipy.stats as stats\n",
    "import pandas as pd\n",
    "import requests\n",
    "from scipy.integrate import quad "
   ]
  },
  {
   "cell_type": "code",
   "execution_count": 7,
   "id": "468e326f-bc73-46d1-9fc7-bf8694515d25",
   "metadata": {},
   "outputs": [],
   "source": [
    "df=pd.read_csv('employee_data.csv')"
   ]
  },
  {
   "cell_type": "code",
   "execution_count": 108,
   "id": "dca0baf0-6e12-4480-a12a-1c7d6bbaf636",
   "metadata": {},
   "outputs": [
    {
     "data": {
      "text/html": [
       "<div>\n",
       "<style scoped>\n",
       "    .dataframe tbody tr th:only-of-type {\n",
       "        vertical-align: middle;\n",
       "    }\n",
       "\n",
       "    .dataframe tbody tr th {\n",
       "        vertical-align: top;\n",
       "    }\n",
       "\n",
       "    .dataframe thead th {\n",
       "        text-align: right;\n",
       "    }\n",
       "</style>\n",
       "<table border=\"1\" class=\"dataframe\">\n",
       "  <thead>\n",
       "    <tr style=\"text-align: right;\">\n",
       "      <th></th>\n",
       "      <th>Unnamed: 0</th>\n",
       "      <th>id</th>\n",
       "      <th>groups</th>\n",
       "      <th>age</th>\n",
       "      <th>healthy_eating</th>\n",
       "      <th>active_lifestyle</th>\n",
       "      <th>salary</th>\n",
       "    </tr>\n",
       "  </thead>\n",
       "  <tbody>\n",
       "    <tr>\n",
       "      <th>0</th>\n",
       "      <td>0</td>\n",
       "      <td>0</td>\n",
       "      <td>A</td>\n",
       "      <td>36</td>\n",
       "      <td>5</td>\n",
       "      <td>5</td>\n",
       "      <td>2297</td>\n",
       "    </tr>\n",
       "    <tr>\n",
       "      <th>1</th>\n",
       "      <td>1</td>\n",
       "      <td>1</td>\n",
       "      <td>A</td>\n",
       "      <td>55</td>\n",
       "      <td>3</td>\n",
       "      <td>5</td>\n",
       "      <td>1134</td>\n",
       "    </tr>\n",
       "    <tr>\n",
       "      <th>2</th>\n",
       "      <td>2</td>\n",
       "      <td>2</td>\n",
       "      <td>A</td>\n",
       "      <td>61</td>\n",
       "      <td>8</td>\n",
       "      <td>1</td>\n",
       "      <td>4969</td>\n",
       "    </tr>\n",
       "    <tr>\n",
       "      <th>3</th>\n",
       "      <td>3</td>\n",
       "      <td>3</td>\n",
       "      <td>O</td>\n",
       "      <td>29</td>\n",
       "      <td>3</td>\n",
       "      <td>6</td>\n",
       "      <td>902</td>\n",
       "    </tr>\n",
       "    <tr>\n",
       "      <th>4</th>\n",
       "      <td>4</td>\n",
       "      <td>4</td>\n",
       "      <td>O</td>\n",
       "      <td>34</td>\n",
       "      <td>6</td>\n",
       "      <td>2</td>\n",
       "      <td>3574</td>\n",
       "    </tr>\n",
       "  </tbody>\n",
       "</table>\n",
       "</div>"
      ],
      "text/plain": [
       "   Unnamed: 0  id groups  age  healthy_eating  active_lifestyle  salary\n",
       "0           0   0      A   36               5                 5    2297\n",
       "1           1   1      A   55               3                 5    1134\n",
       "2           2   2      A   61               8                 1    4969\n",
       "3           3   3      O   29               3                 6     902\n",
       "4           4   4      O   34               6                 2    3574"
      ]
     },
     "execution_count": 108,
     "metadata": {},
     "output_type": "execute_result"
    }
   ],
   "source": [
    "df.head()"
   ]
  },
  {
   "cell_type": "markdown",
   "id": "2d79d3fe-076d-40a3-a036-71464ac88281",
   "metadata": {},
   "source": [
    "**Take a look at the distribution**"
   ]
  },
  {
   "cell_type": "code",
   "execution_count": 109,
   "id": "9a5e2f60-8bd8-4f38-925b-b1c54e1d2dbc",
   "metadata": {},
   "outputs": [
    {
     "data": {
      "text/plain": [
       "<AxesSubplot:>"
      ]
     },
     "execution_count": 109,
     "metadata": {},
     "output_type": "execute_result"
    },
    {
     "data": {
      "image/png": "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\n",
      "text/plain": [
       "<Figure size 432x288 with 1 Axes>"
      ]
     },
     "metadata": {
      "needs_background": "light"
     },
     "output_type": "display_data"
    }
   ],
   "source": [
    "df['salary'].hist()"
   ]
  },
  {
   "cell_type": "code",
   "execution_count": 110,
   "id": "cc33a521-2e1c-4084-9d42-8c1d066022a7",
   "metadata": {},
   "outputs": [
    {
     "data": {
      "text/plain": [
       "(1000, 7)"
      ]
     },
     "execution_count": 110,
     "metadata": {},
     "output_type": "execute_result"
    }
   ],
   "source": [
    "df.shape"
   ]
  },
  {
   "cell_type": "markdown",
   "id": "7fcfbc32-7657-4063-af42-9a96ece3f7ac",
   "metadata": {},
   "source": [
    "**Let's divide the salaries into 4 groups(quartiles).**\n",
    "<p>The groups will be of equal size, but the values are sorted in the ascending order.\n"
   ]
  },
  {
   "cell_type": "code",
   "execution_count": 111,
   "id": "c7183718-33b0-4a4a-85d9-ecfa7fea54f8",
   "metadata": {},
   "outputs": [
    {
     "data": {
      "text/plain": [
       "611     553\n",
       "908     553\n",
       "927     553\n",
       "574     553\n",
       "468     553\n",
       "       ... \n",
       "212    5318\n",
       "880    5435\n",
       "270    5435\n",
       "947    5435\n",
       "607    5550\n",
       "Name: salary, Length: 1000, dtype: int64"
      ]
     },
     "execution_count": 111,
     "metadata": {},
     "output_type": "execute_result"
    }
   ],
   "source": [
    "df['salary'].sort_values()"
   ]
  },
  {
   "cell_type": "code",
   "execution_count": 112,
   "id": "77cf40d7-93f7-42bc-a52a-a02f41ce16ed",
   "metadata": {},
   "outputs": [],
   "source": [
    "sorted_salaries=df['salary'].sort_values()"
   ]
  },
  {
   "cell_type": "code",
   "execution_count": 113,
   "id": "dba7c234-fdad-416b-9423-459270d45491",
   "metadata": {},
   "outputs": [],
   "source": [
    "qrtl1=sorted_salaries[:200].sum()/sorted_salaries.sum()\n",
    "qrtl2=sorted_salaries[:400].sum()/sorted_salaries.sum()\n",
    "qrtl3=sorted_salaries[:600].sum()/sorted_salaries.sum()\n",
    "qrtl4=sorted_salaries[:800].sum()/sorted_salaries.sum()\n",
    "qrtl5=sorted_salaries.sum()/sorted_salaries.sum()"
   ]
  },
  {
   "cell_type": "markdown",
   "id": "f38a8d48-6998-4714-8de4-7abc7258f49f",
   "metadata": {},
   "source": [
    "**The points show the coefficients of distribution for the each group.**"
   ]
  },
  {
   "cell_type": "code",
   "execution_count": 237,
   "id": "01b83fe6-4f78-466c-8bb5-2f3e2456310d",
   "metadata": {},
   "outputs": [],
   "source": [
    "points=[0, qrtl1,qrtl2,qrtl3,qrtl4,qrtl5]\n",
    "x=[0,.2,.4,.6,.8,1.0]"
   ]
  },
  {
   "cell_type": "code",
   "execution_count": 115,
   "id": "3d6ce6d7-0293-4cde-8206-4441602db3d0",
   "metadata": {},
   "outputs": [
    {
     "data": {
      "text/plain": [
       "[0,\n",
       " 0.0788013796874558,\n",
       " 0.21124140894049323,\n",
       " 0.4020312813557678,\n",
       " 0.65352883843982,\n",
       " 1.0]"
      ]
     },
     "execution_count": 115,
     "metadata": {},
     "output_type": "execute_result"
    }
   ],
   "source": [
    "points"
   ]
  },
  {
   "cell_type": "code",
   "execution_count": 116,
   "id": "3e707b53-9304-4686-ae10-4de3f6029e9c",
   "metadata": {},
   "outputs": [],
   "source": [
    "#7% of the overall wealth is controlled by the lower 20% of people\n",
    "#21% by 40% of people\n",
    "#40% by 60% of people\n",
    "#65% by 80% of people"
   ]
  },
  {
   "cell_type": "markdown",
   "id": "577c0e90-eeac-4d25-8262-96b7549aef6a",
   "metadata": {},
   "source": [
    "**The Lorenz curve depicts the slope in accordance with the value of each point, whereas the Perfect Line (in formula written as E) represents the equal distribution among the groups.**"
   ]
  },
  {
   "cell_type": "code",
   "execution_count": 236,
   "id": "eee3319c-978f-4862-9e8f-73001ab6337a",
   "metadata": {},
   "outputs": [
    {
     "data": {
      "image/png": "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\n",
      "text/plain": [
       "<Figure size 432x288 with 1 Axes>"
      ]
     },
     "metadata": {
      "needs_background": "light"
     },
     "output_type": "display_data"
    }
   ],
   "source": [
    "L=plt.plot(x,points, '--o',label='Lorenz curve')\n",
    "E=plt.plot(x,x, '--o',label='Perfect Distribution');\n",
    "plt.legend()\n",
    "plt.title('Wealth Distribution');\n",
    "plt.show()"
   ]
  },
  {
   "cell_type": "markdown",
   "id": "d4a00777-dc58-41ac-9555-37c22c10314a",
   "metadata": {},
   "source": [
    "**Finding the polynomial**"
   ]
  },
  {
   "cell_type": "markdown",
   "id": "9ccd60b6-7fb9-48a8-a530-2c48ea63d74d",
   "metadata": {},
   "source": [
    ">polynomial - is an equation with multiple variables. In our case, we utilize the 4th-degree polynomial, simply put - as it best fits to our logarithmic curve."
   ]
  },
  {
   "cell_type": "code",
   "execution_count": 202,
   "id": "df82207a-34cc-4bd0-b725-cf7a019b8adc",
   "metadata": {},
   "outputs": [],
   "source": [
    "coefs=np.polyfit(x,points, 4)"
   ]
  },
  {
   "cell_type": "code",
   "execution_count": 203,
   "id": "c58453c9-be49-417a-809b-c984ab9ed6cc",
   "metadata": {},
   "outputs": [
    {
     "data": {
      "text/plain": [
       "array([ 3.84827164e-01, -5.22260464e-01,  9.11776782e-01,  2.25384602e-01,\n",
       "        1.35958057e-04])"
      ]
     },
     "execution_count": 203,
     "metadata": {},
     "output_type": "execute_result"
    }
   ],
   "source": [
    "coefs"
   ]
  },
  {
   "cell_type": "code",
   "execution_count": 204,
   "id": "f74eef8a-be88-45e8-ac6e-27dc99990da8",
   "metadata": {},
   "outputs": [
    {
     "data": {
      "text/plain": [
       "array([1.35958057e-04, 7.81215894e-02, 2.12600990e-01, 4.00671701e-01,\n",
       "       6.54208629e-01, 9.99864042e-01])"
      ]
     },
     "execution_count": 204,
     "metadata": {},
     "output_type": "execute_result"
    }
   ],
   "source": [
    "np.polyval(coefs,x)"
   ]
  },
  {
   "cell_type": "code",
   "execution_count": 205,
   "id": "468c5658-0302-44cf-9491-37ca724c8d1b",
   "metadata": {},
   "outputs": [
    {
     "data": {
      "image/png": "iVBORw0KGgoAAAANSUhEUgAAAXQAAAD4CAYAAAD8Zh1EAAAAOXRFWHRTb2Z0d2FyZQBNYXRwbG90bGliIHZlcnNpb24zLjQuMywgaHR0cHM6Ly9tYXRwbG90bGliLm9yZy/MnkTPAAAACXBIWXMAAAsTAAALEwEAmpwYAAA3KElEQVR4nO3dd3hURffA8e+kBwi9E2lSA4SSANLBqJSfooBSxIKoyAuIXawoqNhQX1AUERARaSLdiNKkI4QWILRQhNADJCQhIWXn98cgb4SELGSTu7s5n+fhIbt7d++5EE6GuTPnKK01QgghXJ+H1QEIIYRwDEnoQgjhJiShCyGEm5CELoQQbkISuhBCuAkvq05cunRpXbVqVatOL4QQLmnLli2xWusyWb1mWUKvWrUqERERVp1eCCFcklLq7+xekykXIYRwE5LQhRDCTUhCF0IIN2HZHHpW0tLSiImJISUlxepQRA78/PwIDAzE29vb6lCEEFc4VUKPiYkhICCAqlWropSyOhyRDa01586dIyYmhmrVqlkdjhDiihwTulJqMnAvcEZrXT+L1xUwBugCXAL6aa233kowKSkpksxdgFKKUqVKcfbsWatDEcJldBmzhhqnw3nVazYVVSwndGk+Se9JdLkuhD/XxiHnsGcOfQrQ6QavdwZqXvk1APgmNwFJMncN8vckxM3pV2QTH3lPJNAjFg8FgR6xfOQ9kX4Bmx12jhwTutZ6NXD+BofcD0zVxkaguFKqgqMCFEIId9AjbjKFbJdh7WU4ngFAIZVKjwuTHHYOR6xyqQQcy/Q45spz11FKDVBKRSilIuS/6zfWpUsX4uLicv0527dvJzw8/OrjhQsX8tFHH+X6c4UQN8dz/1GYmATLL8OetP89n3DcYedwxE3RrP7vnWXXDK31BGACQGhoaK46a3QZs4aokxevez6oQlGHzUc5Snp6Ol5eN/dHnTkJ58b27duJiIigS5cuAHTt2pWuXbs65LOFEHZISYH33kNPTET5K3jIH4IyrQ4rFuiwUzlihB4D3JbpcSBwwgGfe0NNKhfH2/PfP0u8PRVNqpTI9Wc/8MADhISEUK9ePSZMmABAkSJFeOmll2jSpAlhYWFXbwi2b9+e559/npYtW1K/fn02bdoEwLvvvsuAAQO45557eOyxx/j7778JCwsjODiYsLAwjh49Snx8PLVr12bfvn0A9OnTh++++w4wpRFiY2M5cuQIderU4amnnqJ+/fr07duXZcuW0apVK2rWrHn1fJs2baJly5Y0btyYli1bsm/fPlJTUxk+fDizZs2iUaNGzJo1iylTpjBkyBCALGMC6NevH0OHDqVly5ZUr16dOXPm5PrPVIgCad06aNQIRo1CB3tjGxzw72Tu7Q9hwx12Okck9IXAY8q4A4jXWp90wOfS69sN1/36ccMRAJ5uW510278H+ek2TbXShQA4n5R63XvtNXnyZLZs2UJERARjx47l3LlzJCUl0aRJE7Zu3Uq7du0YMWLE1eOTkpJYv349X3/9Nf3797/6/JYtW1iwYAHTp09nyJAhPPbYY0RGRtK3b1+GDh1KsWLF+Oqrr+jXrx8zZ87kwoULPP3009fFEx0dzXPPPUdkZCR79+5l+vTprF27ltGjRzNq1CgA6tSpw+rVq9m2bRsjR47kjTfewMfHh5EjR9KrVy+2b99Or169/vW5WcX0j5MnT7J27VoWL17Ma6+9ZvefnRACSEiAZ5+FNm2wXbpE0iMl+btbbVIe+IyMgEBsKDICAuG+sRDc02GntWfZ4gygPVBaKRUDvAN4A2itxwPhmCWL0Zhli084LLobKBvgR5kivpxNuIzGzPuUKeJLUb/cb3QZO3Ys8+bNA+DYsWMcOHAADw+PqwnxkUceoXv37leP79OnDwBt27bl4sWLV+e+u3btir+/PwAbNmxg7ty5ADz66KO8+uqrANx99938/PPPDB48mB07dmQZT7Vq1WjQoAEA9erVIywsDKUUDRo04MiRIwDEx8fz+OOPc+DAAZRSpKWlZflZmWUXE5j/pXh4eBAUFMTp06dz/kMTQhi//w4DBsCxY/Dss3h88AH71s2jQt07KFS5JrR4Ks9OnWNC11r3yeF1DQx2WESZzHqmRbav+ft4svjZ1rT5ZCWX0234enmweGhrygb4AVCysM8N35+dP//8k2XLlrFhwwYKFSpE+/bts9y5mnnZ3rVL+P55XLhw4WzP888xNpuNPXv24O/vz/nz5wkMvH4+zdfX9+rXHh4eVx97eHiQnp4OwNtvv02HDh2YN28eR44coX379nZecdbXlPmc0khcCDucPw8vvgg//AB16pD460L+Lu5JvSJFaNLx0XwJwaVruZQt6sdDIYEoBQ+G3nY1medGfHw8JUqUoFChQuzdu5eNGzcCJvH+M5c8ffp0WrduffU9s2bNAmDt2rUUK1aMYsWKXfe5LVu2ZObMmQD89NNPV9//xRdfULduXWbMmEH//v3tGllnF3elSmZx0ZQpU64+HxAQQEJCQpbvyS4mIcRN+uUXCAqCn36CN9/k8oa1HNv2IVWX9OP8mTy/pXiVSyd0gKFhNWlatSRDw2o45PM6depEeno6wcHBvP3229xxxx2AGW3v3r2bkJAQVqxYwfDh/7uRUaJECVq2bMnAgQOZNCnrNaVjx47l+++/Jzg4mB9//JExY8awf/9+Jk6cyGeffUabNm1o27Yt77///i3F/eqrr/L666/TqlUrMjIyrj7foUMHoqKirt4UzSkmIcRNOHkSevSABx+ESpVg82ZsI0awe+IT1E3dxZ6m71OybMX8i0drbcmvkJAQfa2oqKjrnnMWhQsXzvL5du3a6c2bN+dzNM7Bmf++hMhTNpvWkydrXby41r6+Wn/0kdZpaVrbbHrjuKe0fqeoXv/ju3lyaiBCZ5NXnao4lxBCOL0jR8xNz6VLoU0bmDgRatUCIHLlbJqfmc3Gsr24o6/jliPaSxK6nRITE7N8/s8//8zfQIQQ1sjIgHHj4I03QCnz9cCB4PG/mesG7R5kS1I8zTr3t6TekcvPoQshRJ7bs8eMxp97Dtq2hd27YdCgq8k8auMSjkXvQnl4EHLv03h4eloSpiR0IYTITloafPCB2e25bx/8+CP8+itUrnz1kEO7/uK23/oRP3uQdXFeIVMuQgiRlS1boH9/iIyEnj3hyy+hbNl/HXLq6AGKzOlNsvKn9KOTLQr0f2SELoQQmSUnw2uvQfPmcPYszJsHs2Zdl8zjz58hZUo3/Ekm6aGZlL/NMUunc0MSeg7effddRo8ene3r8+fPJyoqKh8jEkLkmdWroWFD+Phj6NcPoqLggQeyPHTvjNepmHGSo3dPpFq95vkaZnZcO6FHzoYv6sO7xc3vkbPzPQRJ6EK4gYsXzU3Odu0gPR2WLTPLEYsXz/YtwY9/QXTHqdRrdW/+xZkD103okbNh0VCIPwZo8/uioQ5J6h988AG1a9fmrrvuulra9rvvvqNp06Y0bNiQHj16cOnSJdavX8/ChQt55ZVXaNSoEQcPHszyOCGEEwsPh/r1Yfx4eOEF2LkTwsKyPFTbbGyc/SkJ8efxL1KUoJb/l8/B3phz3xT9Pos/rHoPQLOnYdkISEv+92tpyfDbMFOOMukczH7s368/8WuOp9yyZQszZ85k27ZtpKen06RJE0JCQujevfvV0rZvvfUWkyZN4tlnn6Vr167ce++9PPjggwAUL148y+OEEE4mNtYk8GnTTB2W9evhSqmP7Gz4aSQtD37BX6lJNH/k3fyJ8yY4d0K/kYvZtG1KvlH705ytWbOGbt26UaiQqav+T3efXbt28dZbbxEXF0diYiIdO3bM8v32HieEsIjW8PPPMGQIXLgAw4ebzUKZKoxmZdPCb2l58Au2BnSgaZ+38ynYm+PcCf1GI+pigVemW659/krzpMKl7BqRZyWrHV79+vVj/vz5NGzYkClTpmS7Q9Te44QQFjhxwsyVL1gAoaFmrjw4OMe3Ra5eSKMtr7PHtwH1Bv9k2cahnLjuHHrYcNO+KTMHtHNq27Yt8+bNIzk5mYSEBBYtWgRAQkICFSpUIC0tjZ9++unq8deWp83uOCGEhbQ2NzmDgkwDitGjYcMGu5J5Rno6xf58nROelag0aB6+ftn3ObCac4/Qb+Sftk3LR0J8jBmxhw3PdTunJk2a0KtXLxo1akSVKlVo08Y0nH7vvfdo3rw5VapUoUGDBleTeO/evXn66acZO3Ysc+bMyfY4IYRFDh2Cp5+GFSvMKpaJE6GG/WvGPb288O03Hw8PD4oWL5OHgeae0hZ1owkNDdURERH/em7Pnj3UrVvXknjEzZO/L+HUMjJg7Fh4803w8jKj8qee+lcxrRu5cO4MexZ/yR2PvOtUUyxKqS1a69CsXnPdKRchhMjO7t3QqpVpCXfnnWaD0IABdifz5EtJnBj/AKGHxnF0X0TOb3ASktCFEO4jNRVGjoTGjeHgQZg+HRYtgix69WYnPT2d3V/1pl7abqLu+JSqQc6xC9QeTjeHrrW2pI6wuDlWTdUJka3Nm00xrV274OGH4b//hTI3N+etbTb+Gj+QVpdWE1H7RUI7P5k3seYRpxqh+/n5ce7cOUkWTk5rzblz5/Dzy31TbiFy7dIlePllsynowgVYuNA0a77JZA5wNHonoWfnE1G+F6G987/jUG451Qg9MDCQmJgYzp49a3UoIgd+fn4E3sR/Y4XIE3/+aW50HjwIzzxjimoVK3bLH1elVkOO9l5CSO3GpiuRi3GqhO7t7U21atWsDkMI4ezi4+HVV2HCBLj9drMksUOHW/64basXknb+GM0eGEzlulkuIHEJTjXlIoQQOVq8GOrVM+vJX37ZNKDIRTLft2MjNZYPoNzO8aSlpjgw0PwnCV0I4RrOnjU3O++7D0qWhI0b4dNP4UrdpVtx7PB+is/rQ7IqROH+8/H2ce37QpLQhRDOTWuz/LBuXZgzB0aMgIgIaNo0Vx97LvY0aVN7UIhkLveeRelKtzsoYOtIQhdCOK+YGOjaFfr2Ndv1t20z1RF9fHL90dGrZhJoO8HJzpO4rU7ufjg4C6e6KSqEEADYbPDdd/DKK6aD0Oefw9Ch4MAt+M17PMep0I7UqlLHYZ9pNRmhCyGcS3S06Rg0cKCZVtm1yzSicEAy1zYbaya8wN6IFQCUd6NkDpLQhRDOIj3dFNBq0MBMrUycaOqVV6/usFOsnvoubU5MJnHbXId9pjOxK6ErpToppfYppaKVUq9l8XoxpdQipdQOpdRupdQTjg9VCOG2IiOhRQszxdKxoymm9eSTDt3cs27+t7Q7MoYdRTsQ8uQYh32uM8kxoSulPIFxQGcgCOijlAq65rDBQJTWuiHQHvhMKZX7uxZCCPd2+TK88w6EhMDff8OsWTBvHlSs6NDTbP1zAU23vc5e3wYEDZ6O8nCecriOZM9N0WZAtNb6EIBSaiZwPxCV6RgNBChTVasIcB5Id3CsQgh38tdfZhS+ezc88ogpplWqVJ6cKmPrNE56BVJ50Hy8fW993bqzsyehVwIyN++MAa6tJ/kVsBA4AQQAvbTWtms/SCk1ABgAULly5VuJVwjh6pKS4O23TQIPDIRff4UuXfL0lE2GTicpPpZCxUrn6XmsZs8celaTWNeWQ+wIbAcqAo2Ar5RSRa97k9YTtNahWuvQMrdQCU0I4eKWLzc3Pb/4Av7zH7OCJY+SeezZ02z69AHOHD+Cp5c3RUtVyJPzOBN7EnoMcFumx4GYkXhmTwBztRENHAbcaz2QEOLWxcWZvp533WXawa1aBePGQdHrxn0OkZiUyMlvu9MocTUXj+/Nk3M4I3sS+magplKq2pUbnb0x0yuZHQXCAJRS5YDawCFHBiqEcFELFkBQEHz/PQwbBjt2QNu2eXa6tPR0do/rQ4P0XRxoOZoazTrl2bmcTY5z6FrrdKXUEOB3wBOYrLXerZQaeOX18cB7wBSl1E7MFM0wrXVsHsYthHB2p0+b3Z2zZ0PDhqYVXEhInp5S22xs+PoZ2l5azfa6L9OoY/88PZ+zsWvrv9Y6HAi/5rnxmb4+Adzj2NCEEC5Ja9Mx6LnnIDER3n/f1C739s7zU1+Mj6Ny3Ca2VexD455v5fn5nI3UchFCOM7Ro2bL/m+/mY1CkyaZKon5pFiJkni/sIoqhYu5ZMeh3JKt/0KI3LPZ4JtvTOOJVatgzBhYsybfkvmmFfPZ/Fl3UpKTKBRQ0m03DuVERuhCiNzZv9/09VyzBu6+27SFq1o1306/a9t66q4ayAWvMthSk8G/cL6d29nICF0IcWvS001T5uBg2LnTrGL5/fd8TeZHDu6jzIK+pHgUouhTC91+41BOZIQuhLh5O3ZA//6wdSt062bWlFfI3407Z86cwjatB4VJIaH3YspUkAbzMkIXQtgvJQXeegtCQ+H4cdMSbu7cfE/mAHHHD1BUJ3L2/yZToXbeLod0FTJCF0LYZ/16U0xr7154/HHTRahkyXwPw5Zhw8PTg1qN25BaZxel/YvkewzOSkboQogbS0w0a8pbt4ZLl2DJEpgyxbJkvvqrp9nw/TDQGh9J5v8iCV0Ikb2lS00xrS+/hMGDTTGtjh0tC2fllOG0vzCHQunxlsXgzCShCyGud+GCuel5zz3g6wurV5ukHhBgWUgr53xD2LEv2VX8ToKfHFcgNw7lRBK6EOLf5s41xbSmToXXX4ft2810i4U2Lp9Hq51vst8vmLqD3LfjUG7JTVEhhHHqFAwZAr/8Ao0aQXg4NG5sdVQAqIvHOeFdhcqD5uPp4291OE5LRuhCFHRaww8/mFH54sUwahRs2uQUyTwt3XSybN5tCJWH/YVf0bxpUecuJKELUZD9/Td07gz9+pmEvn27mWbJh8qIOTl1+iQHR93BjuUzAPDwlr7zOZGELkRBZLPBV1+ZYlrr1pmvV6+GOs7RaCw+IYEzE3pwe8YhihUtbnU4LkPm0IUoaPbuNcW01q0zSxC//RaqVLE6qqtSUtPYPe5hWmbsZl/rL6jdtLPVIbkMGaELUVCkpZn58YYNISrKzJv/9ptTJXObTbPu64G0TFnNrnovU/vugtVxKLdkhC5EQbBtm1lXvn07PPigmWIpV87qqK6jtY0ALxs7A/vQ4MGC13EotyShC+HOUlJgxAj49FMoU8YsSeze3eqospScnIK/vx9NB00CtGwcugUy5SKEu1q71kyvfPQRPPaYmWZx0mS+ftlcYj9pxInonSgPD9k4dItkhC6Eu0lIMEsPx40zzSb++MN0EnIiXcasocbpcF71mk1FFcsdKE7p4gxdeIw5LzawOjyXJSN0IdzJkiVQvz58/bWpkLhzp9Mlc4B+RTbxkfdEAj1i8VDgoTQlVCI9i++1OjSXJgldCHdw7pypUd65MxQubJYk/ve/UMQ5y8v2iJtMIZX6r+f8VRo9LkyyKCL3IAldCFemtekaFBQE06ebbkLbtkGLFlZHdkOeCcdv6nlhH0noQriqkyehRw946CG47TaIiID33jPlbp1UenoGK3/6BFtANi3rigXmb0BuRhK6EK5Ga/j+ezMq/+03+Phj2LjRrGhxYnHx8Wz8/EE6HPiAYwENwfuaqone/hA23Jrg3IQkdCFcyeHDpulE//4QHAw7dsCrr4KXcy9YO3xoP6fG3EnrSyvYWftZqjw9A+4bS0ZAIDYUGQGBcN9YCO5pdaguzbm/C4QQRkaGWYb4+uvg6QnffAMDBoCH84/JIjevosLixyirUoi+81satO1tXgjuiackcIeShC6Es4uKMsW0Nmwwq1i+/dbMmbuIshVu47xfILrnV9S43foa6+7M+X+8C1FQpaXB+++bRhP798O0afDrry6RzFMuX2btrNFkpKdTPrA6tV9bS1lJ5nnOroSulOqklNqnlIpWSr2WzTHtlVLblVK7lVKrHBumEAXMli0QGgpvvw3duplRet++LlHf5OyZU+wd3ZHWe95j/5o55kkXiNsd5JjQlVKewDigMxAE9FFKBV1zTHHga6Cr1roe8JDjQxWiAEhOhmHDoFkzOHsW5s+HmTOhbFmrI7PLvp2bSPm6PUGpkewM+YC6HXpbHVKBYs8cejMgWmt9CEApNRO4H4jKdMzDwFyt9VEArfUZRwcqhNtbvdrMlR84YH7/9FMoXtzqqOwWsXQWddY+x2Xly/H759CgyZ1Wh1Tg2DPlUgk4lulxzJXnMqsFlFBK/amU2qKUeiyrD1JKDVBKRSilIs6ePXtrEQvhbi5ehEGDoF07SE+HZcvgu+9cKpkDFClemhO+1VADVlJNkrkl7EnoWU1+6WseewEhwP8BHYG3lVK1rnuT1hO01qFa69AyZcrcdLBCuJ3wcNPX89tv4cUXTTGtsDCro7JbUuJFIhZ/B0CdpmHUfG0dJStWtziqgsueKZcYIPNt9UDgRBbHxGqtk4AkpdRqoCGw3yFRCuFuYmPh+efhp5/Mjs85c6B5c6ujuikn/j5A0tReNE4/REytpgTWaoRygXXx7syeP/3NQE2lVDWllA/QG1h4zTELgDZKKS+lVCGgObDHsaEK4Qa0hlmzTBKfNQveeQe2bnW5ZL5r4+/4fh9G+YwT7OkwgcBajawOSWDHCF1rna6UGgL8DngCk7XWu5VSA6+8Pl5rvUcptQSIBGzARK31rrwMXAiXc+IE/Oc/sHChWZK4fDk0cL1mDpvmjqHRjhGc9ijHpd4LqF9b1pc7C7t2imqtw4Hwa54bf83jT4FPHReaEG5Ca5g0CV5+GVJTYfRo03zCyeuvZEd7eLLPvzFVBs6kaHG5F+ZMXPM7SghXcegQPP00rFgB7dub1Ss1algd1U2Liz3F8agN1GvbjeYPDMGW8R88PKXvp7OROxhC5IWMDPjiC9MOLiLCrGJZvtwlk/nfUZu4NK4tt60YxMW4cwCSzJ2UJHQhHG3XLmjZ0ixDDAuD3btdpjLitSKXTaPMrHvx1qkcv3caRYuXsjokcQOu9x0mhLNKTYURI6BJEzPVMn26uQEa6IJdeLRm8w+vEbx2MMe8KpPx1ErqhrrO+viCSubQhXCEzZtN04ldu+Dhh02DZlfePKcU6Zfi2BRwN/UHfk+hwgFWRyTsIAldiNy4dAmGDzfz5RUqwKJFcO+9Vkd1y2JjDpAQd5Zq9VvSbMA4PJSSzUIuRBK6ELdq5UqzguXgQXjmGdPbs1gxq6O6ZQc3/07JX59CeRQjo+4OPOXGp8uRH71C3Kz4eJPA77xSgGrlShg/3qWT+Y55n1F5cR8uqgAyHpomydxFyQhdiJuxaBEMHAinTpmNQiNGQKFCVkd1y2xpqUROHECj0/PY6teUqgNmULKUC8/9F3AyQhfCHmfPmpudXbtCqVKwcaOpV+7CyRzAhkLFH+PPMn2p/9JvksxdnIzQhbgRrWHGDBg61NQtHzECXnsNfHysjixXTu3bjFfRMpSuUJXaL4Tj6+ODkjZxLk9G6EJkJybGjMj79jU7PLdtMytaXDyZ71vxI8Vm/B9HfhwMgJ+vryRzNyEJXYhr2Wxmq35QkKnB8sUXsG6daUThymw2In98ldqrh3DIoyple31pdUTCwWTKRYjMDhwwSxFXrTLb9idMgOqu34EnLfkiB8b3JTh+NasLd6TRfyZTtEgRq8MSDiYjdCHA9PIcPRqCg2H7dpg4EZYudYtkDnApJZVCCYdZWvkFWr04U5K5m5IRuhCRkfDkk6Yq4v33w9dfQ8WKVkflEMd3/knpmk0pVqI0ni9voqqLr8oRNyYjdFFwXb5sWsCFhMDff5uWcPPmuUcy15p9Cz6l3JxubJryBgBFJJm7PRmhi4Jp40YzKo+KgkcfNTc+S7lHaVidfpk9k54h6OQ8/vJpRs3ub1odksgnMkIXBUtSErzwgqlXnpAA4eEwdarbJPOUCyc5/FkYQSfnsaTkIwS/HE75smWtDkvkExmhi4Jj+XKzguXwYRg0CD78EIoWtToqhzp79jRFkmNYUmcUHXsNkvXlBYyM0IX7i4uDp56Cu+4yjZlXrYJx49wqmZ/atRpts3FbrUZ4PredTr0HSzIvgCShC/e2YIHZIDRlCgwbBjt2QNu2VkflODYb+6e/Qvk597F+/ngASpUobm1MwjIy5SLc0+nTpv7K7NnQsKGpkhgSYnVUDmVLjufQhL7UurCGpf6daRL2qNUhCYtJQhfuRWuYNg2efx4SE+GDD+CVV8Db2+rIHCrp5H7iJ/egamoMCyq9SOcn3sLHW2qYF3SS0IX7OHrU1Cr/7Tdo0QImTYK6da2OKk8cObCLcqlxLAv9lq73PiTz5QKQhC7cgc1mOgYNG2ZG6GPHmlUs7tZ1R2vOR2+iZM3m1GvbnZN12tKpbGmroxJORG6KCte2fz+0bw+DB5tR+a5d8Oyz7pfM0y8TPfFxik3rSORfKwCoIMlcXEMSunBN6emmKXNwMOzcCd9/D7//DlWrWh2Zw6XFneDo5x2ocXwBi4r3pWpwK6tDEk5KplyE69m+3Wzb37oVunc3a8rLl7c6qjxxMfov0qf3oXRGIr/UHMUDDw/C00Pmy0XWZIQuXEdKCrz5JoSGwvHjMGcO/PKL2yZzgP2b/yApw4N17WfQ45HBkszFDckIXbiG9evNqHzvXnj8cfj8cyhZ0uqoHCdyNiwfCfExUKwSyY2exL/Di4T0epMjJ57k7kA3qAAp8pxdI3SlVCel1D6lVLRS6rUbHNdUKZWhlHrQcSGKAi0x0WwQat0aLl2CJUvMrk83SuaffDKSS78MhvhjgIb4GPz+HMF/R72K8vCgmiRzYaccE7pSyhMYB3QGgoA+SqmgbI77GPjd0UGKAuqPP6B+ffjqK7OKZdcu6NjR6qgc7um0aRRSqf96Til4XM+3JiDhsuwZoTcDorXWh7TWqcBM4P4sjnsW+AU448D4REF04QI88YRJ3n5+sGYNfPklBARYHVmeKJ6W9T+Z7J4XIjv2JPRKwLFMj2OuPHeVUqoS0A0Yf6MPUkoNUEpFKKUizp49e7OxioJg7lxTTOvHH+H1182KllbuvUxPFQu8qeeFyI49CT2r2+r6msf/BYZprTNu9EFa6wla61CtdWiZMmXsDFEUCKdOwYMPQo8eUKGC6e85apQZobshW8JZDn33KHu3roaw4di8/P/1uvbyh7DhFkUnXJU9q1xigNsyPQ4ETlxzTCgw80o9idJAF6VUutYyCShyoDX88AO8+KK56fnhh/DSS25XTOsqm43jKydQdO17BNqS+VXVoc5Tb+IBXFj0FsVSzxDvU5YS970PwT2tjla4GHsS+magplKqGnAc6A08nPkArXW1f75WSk0BFksyFzk6cgSeecbc/GzdGiZOhNq1rY4qzyQei+T8zMFUTopkC0Gcv/NDHmjbzrwY3JO0ql3pPWMbXz3cGALc838mIm/lmNC11ulKqSGY1SuewGSt9W6l1MArr99w3lyI69hsZnfn66+b5RxffQX/+Q94uPc+t30rZ1At8RBzK79BWO8XKFbY51+vly3qx+xnWlgUnXAHSutrp8PzR2hoqI6IiLDk3MJCe/eadnDr1kGnTqZKYpUqVkeVZ05uns/5FE29Nt1ITUnm4PFT1L29Ws5vFCIbSqktWuvQrF5z7yGRcB5paeYmZ8OGsGcPTJ0K4eFum8xTzh1l/9gHqPDr41z6cww2m8bHz1+SuchTsvVf5L2tW822/e3b4aGHzJrycuWsjipvZKRzYPFnVNr2OZV1BovLPk3zvu/gITVYRD6QhC7yTnIyjBwJn34KZcqYNebdulkdVZ7av3YOtbaNYpNnE7zu+5x7GzW2OiRRgEhCF3lj7VozKt+/H/r3h9GjoUQJq6PKE2lJFziyaz01m/8fNdv0ZF2KJ03v7C49PkW+kzl04VgJCTBkCLRpA6mpsHSp6e3pjslcaw6smMrF0U0oF/4U586fQ3l40KrjQ5LMhSVkhC4cZ8kSs6782DF4/nl47z0oUsTqqPLE+Zi9nJ4xlLpJf7FX3U783Z/QvGQpq8MSBZwkdJF7586ZnZ5Tp0LdumZJYgv3XU998fRR/Ce24TbtybKqL9Kqz+v4+/nk/EYh8pgkdHHrtDZdg4YMgfPn4e23TUchX1+rI8sTZ47upWzlOhQtV5n1dV6hQrMHuKt6LavDEuIqSeji1pw8CYMGwfz5EBJitu83bGh1VHki4fwpDkx7keBzv7H3gYXUadyGlr1ftTosIa4jN0XFzdEaJk82UytLlsAnn8DGjW6ZzLXNxrYFY8kYG0KDc0tYX/5hKtwebHVYQmRLRujCfocPw4ABsGwZtG0L330HtdxzykHbbOz+9C4aJ28hyisIr65jaBvczOqwhLghSegiZxkZpoDWG2+Apyd8841J7G5YTCsl+RK+fv4oDw+SK3dgg/d9NOs2FE9PWYYonJ8kdHFjUVGmmNaGDdCliymmddttOb/PBW1b8TPl1rzJiTuGE9rxEZr2edvqkIS4Ke43xBKOkZoK778PjRub3Z7TpsHixW6ZzE8cO8TmT++n8eqnSFdeFCku3bSEa5IRurheRITZth8ZCb17w5gxULas1VHlifVzxhK8cxQlSWdT9UE06jUcHz//nN8ohBOShC7+JzkZ3nkHPvsMypeHBQuga1ero8oTWmuUUvj5evF3oXqU7PklzaoFWR2WELkiCV0Yq1aZufLoaHj6abMcsXhxq6NyuNjYWKJ+GoZH6eq07vsmjf9vIOre/5jOSUK4OJlDL+guXjTt39q3N63hli+HCRPcLplnZNhYNX8iGV+F0vr8LxRKOQ2A8vCQZC7chozQC7LwcFNM68QJU4tl5EgoXNjqqBwuev9u4n4eSru0CI54386J+3+kSf02VoclhMNJQi+IYmNNNcSffoJ69Uw9lubNrY4qz9jijlE3bTc7679G/W4vozy9rQ5JiDwhCb0g0Rpmz4Znn4W4OHMD9I03wMe9KgVqrVm9fBG2mC106DeCWs06cTkoigZFSlodmhB5ShJ6QXH8uCmmtXAhNG1qmk40aGB1VA536OhRDs98hbBLSzjlUZ7U5Ffw8S+CryRzUQDITVF3p7WpuRIUZLoHjR5tdn26WTJPvpzO4h8/p/iklrS79AdR1fpR9tUt+Pi7Z4MNIbIiI3R3dvCgWYK4cqVZxfLdd1CjhtVR5YkLJw9yd/QoThaqheo5jqBq0pxZFDwyQndHGRnw+edmFL5lC3z7rVmO6GbJPObMOf6YMQatNRWr1ibxkXCqvrKWEpLMRQElI3R3s2uX2ba/aRPce6+pjBgYaHVUDpWabmPJgp9oGPke96jTnNjTjIpBLShVU8rbioJNErq7SE2FDz+EDz6AYsVgxgzo1cvtNs1s3rWHhPmv0DV9Dad9Aom972cqBrlv/1IhboYkdHewaZMZle/aBQ8/bIpplS5tdVQOl3I5lXJzuhFMLIfrD6Xa/W+Ct5/VYQnhNCShu7JLl2D4cPjiC6hQARYtMtMsLqzLmDXUOB3Oq16zqahiOaFL82NGGGvL9OHX5zugu4yGKrWoVs49OyUJkRuS0F3VypWmmNahQ2b7/scfm6kWF9evyCbuPT+RQioVgEAVy2tqFqsunwc6UKWZa//AEiIv2bXKRSnVSSm1TykVrZR6LYvX+yqlIq/8Wq+Ucr+Owc4iPt4k8DvvNPPjK1eaLkJukMwBesRNvprM/6EUtPHcbVFEQriOHBO6UsoTGAd0BoKAPkqpawtHHwbaaa2DgfeACY4OVGCmVIKCYOJEeOUV04CifXuro3IIrTUAngnHs3zdM/FkfoYjhEuyZ4TeDIjWWh/SWqcCM4H7Mx+gtV6vtb5w5eFGwL3WyVnt7Flzs7NrVyhVCv76y9QrL1TI6shyLT4plfkL57L8g66cP30MimXzrZPd80KIq+yZQ68EHMv0OAa4UWm+J4HfsnpBKTUAGABQuXJlO0MswLQ2yw+HDjV1y0eOhGHD3KKYVvTJc2z/bTK1/57OA+oQSaowccciIWw4LBoKacn/O9jb3zwvhLghexJ6VguZdZYHKtUBk9BbZ/W61noCV6ZjQkNDs/wMccWxY6bxxK+/mtK2kyaZUrdu4PTZcwSMb8KDKo7TvpU52ewDKrTpR2Hf/9VdyVg6ApVwHB1QCc+734HgnhZGLIRrsCehxwCZW70HAieuPUgpFQxMBDprrc85JrwCyGYzNVdeecVs4f/iC1Pu1tPT6shuWXJqBqtWhuMV8xd3Pfk+5cqUIirocfzqtaJcvXuu3/wU3BNPSeBC3DR7EvpmoKZSqhpwHOgNPJz5AKVUZWAu8KjWer/DoywoDhwwxbRWrYKwMNMKrnp1q6O6ZSfPx7M5fArVoqfSiWgSVWFSE1/Cp0gJgnqNtDo8IdxOjglda52ulBoC/A54ApO11ruVUgOvvD4eGA6UAr5WZrSVrrUOzbuw3Ux6uhmJDx8Ovr5mFUv//i69bX/9igXUWDWUriqOU96BHGkygiod+qP8ilodmhBuy66NRVrrcCD8mufGZ/r6KeApx4ZWQERGmm37ERFw//3w9ddQsaLVUd20tAwb69cso5S/B/Wb30XNek24EFkf1W4Q5Rt2Bg8p7ClEXpOdola5fNkU0vrwQyhZ0rSGe/BBlxuVX7iYxKbfplBh7w+00/vYVzgUmt9FmXK3Ueb5X60OT4gCRRK6FTZuNKPyqCh49FEz3VKqlNVR3bRl0z6lwYFxdFQXOOVVkX0N3qLmPQOsDkuIAksSen5KSoK33jLVEAMDITwcOne2Oiq72WyaLX/9SYPgEPwKF6Woj424gJqktRlMYNOulJdpFSEsJQk9vyxbBgMGwOHDplnzhx9CUde4QZh0KZmI33+kxM7vaWqLYsvJdwjp/iLNHnoV1DCrwxNCXCEJPa/FxcFLL8HkyVCzplmS2Lat1VHZJTU1jfVT36ZOzGzacY6THuXZWX8YDe55whzgYvP9Qrg7Seh5af58Mxo/cwZee80sS/T3tzqqG9Jac+LYYSpVro63txcVTy0nzr8KiS0/4vaW3angKd8yQjgr+deZF06fNrs7f/4ZGjY0VRJDQqyO6oZSU1PZvvQnCm2bSI20fVwcupuipcpR7eWVePsVyfkDhBCWk4TuSFrDtGnw/POQmGiWJb7yCnh7Wx1ZtuLOnWX3ojFUPzKDZsRySpVld51nqefrCyDJXAgXIgndUY4eNY0nliyBFi1MMa26da2OKlupl1Pw8fUj7uxxWh35kijfRpxrNpKgdr0o7yXfFkK4IvmXm1s2G3zzjZkj1xrGjjXz5k5YTMuWns7OlbPwjJhAqncxmry8kKp1GnHqib8IqlLH6vCEELkkCT039u0zfT3XroW77zbFtKpWtTqq6yTGxbLn13EERk+joT7DKUpz5LYOV18vL8lcCLcgCf1WpKfD6NHw7rtm1cr338PjjzvtMr6dP4+ixfFJ7Pauz/HGb9Lw7ocp7+36TTKEEP8mCf1mbd9utu1v3Qrdu8O4cVC+vNVRXaUz0tm/di4ZG8eTEfoUDcIepsa9z7PnVHfqNc6y74gQwk1IQrdXSgq89x58/DGULg1z5kCPHlZHddXlxPPsDf+GsnunUtt2ilOU4khSIgBlKlSmTAVp+SeEu5OEbo9168yofN8+M7Xy+eemQqITOfHFnTTMOMxOzyAONn6ZkHse5Q5/P6vDEkLkI0noN5KYCG+8AV99BZUrmyWJHTvm2+m7jFlDjdPhvOo1m4oqlhO6NJ+k9+Rg2U58fcd5EjZOpebAafj6FeZcizeJK1KaRs3bo5x0Ll8IkbckoWfnjz9MMa2jR2HIEBg1Cork7yabfkU2ce/5iRRSqQAEqlhGe39LQtw0Si25yBldgsP7IqnTsAWhdz2Ur7EJIZyPJPRrnT9vimlNmQK1a8OaNdCqlSWh9IibjOeVZP4PH5VBAJdYXu9DQjv3o06RQpbEJoRwPpLQM/vlFxg8GGJjzVTL22+DXz7PQ2ekc/7gJk7tWErdhJgsD/Emg7CHBuVvXEIIpycJHeDkSTOtMncuNG5s5sobNcqfc2t9df165HfPUP34QkpyiZJAmvbEW2Vc9xZVLDB/YhNCuJSCndC1hh9+gBdegORk03TipZfytpiW1lw8tpOYrX+gDq+mRMI+Sr++Ey9vH+I8SrC5SAfSK7emYqO7qXNpK/z6HKQl/+/93v4QNjzv4hNCuKyCm9CPHDE3PZcuhdatYeJEM2fuaFqb35Vi9++TqLBxJCV1HEHAcV2GfUWa4BV3gdJlytH2yY+ueXNN8FBkLB2BSjiODqiE593vQHBPx8cphHB5BS+h22xmd+frr5upjnHjYOBAcGA/zMTThzm6dQnp0aupcGETp8P+S/1W90HRSkT5NeFyYEtKB99D3boNqOSVw3mDe+IpCVwIYYeCldD37DHFtNavh06dYPx4qFIl1x+rM9JRnl6cPbaf9O+7UsF2kiDgvA5gn38jCnualSj1WnSCFp1yfT4hhMhKwUjoaWnwyScwcqRZSz51KjzyyC0X00qOO8ORLb+Tsn8lZWI3cbxUS5oPmkCJ8lXZ4luTPeX6UKLeXdRt2IwWPs7b3EII4V7cP6Fv3Qr9+8OOHfDQQ/Dll1Cu3E19hC3tMh7epoPPnk/upO6lLdQFErUf+3zrk1q2AQBe3j40H7bI0VcghBB2cd+EnpwMI0aYMrdlypglid262fXWy5fiObJ1BQl7VlD8zEb80hMIfGcvAOdKN+dPW1MC6t5J7cZtCSnk3E2fhRAFh3sm9DVrzFz5/v2mqNann0KJEtkenpaShKe3Px6eHmz+8U0aRX9DbZVBqvZkv3dtTpTvTNnUVHx8fGjd/8N8vBAhhLCfeyX0ixfN6pWvvzadg5Yuhbvuuu6w9NQUDu1YQ9zu5RQ5uYHbU3ZzrGc41es1w7dyCH8lPYxfzfbUCAmjfvHsfxAIIYQzcZ+E/ttvpklzTAw8/zy8/z4ULgxARnoaqSnJ+Bcpyv4tKwhc2Jta6jI2rTjoWY2Isj2o7B8AQHC77tCuu4UXIoQQt8b1E/q5c2an548/Qt26sG4dtmbNOBS1idjIpfgdX8/tl7azq0o/WjzxEeVvb8iO0v+H1+3tqBbakZplK1DT6msQQggHsCuhK6U6AWMAT2Ci1vqja15XV17vAlwC+mmttzoy0Otqg9tKsXRXMN2WraJYSiIpLz6P/6iPsHl6cva9mtTgHDWAGFWBqJJ3E1DTVEwsWrwULZ793pGhCSGEU8gxoSulPIFxwN1ADLBZKbVQax2V6bDOQM0rv5oD31z53WH+VRs8wUZg+DGe2HuYSxUKEfdIac6UWEttX188gMPV+3K0WAUqh3QkMPB2pJSVEKIgsGeE3gyI1lofAlBKzQTuBzIn9PuBqVprDWxUShVXSlXQWp90VKBXa4MfSINfkiEDuMsX3xZe7CneEl29/dVj73jsPUedVgghXIY9Cb0ScCzT4xiuH31ndUwl4F8JXSk1ABgAULnyzTUt9kw4br4o5Qm3eUInPyjliQeKkBd/uanPEkIId2RPRaqs9sfrWzgGrfUErXWo1jq0TJky9sT3P//UAC/pAX0Lm8SO1AYXQoh/2JPQY4DbMj0OBE7cwjG5Ezbc1ALPTGqDCyHEVfYk9M1ATaVUNaWUD9AbWHjNMQuBx5RxBxDvyPlzwNQAv28sGQGB2FBkBATCfWOlNrgQQlyR4xy61jpdKTUE+B2zbHGy1nq3UmrgldfHA+GYJYvRmGWLT+RJtFIbXAghsmXXOnStdTgmaWd+bnymrzUw2LGhCSGEuBmOa9MjhBDCUpLQhRDCTUhCF0IINyEJXQgh3IQy9zMtOLFSZ4G/b/HtpYFYB4bjCuSaCwa55oIhN9dcRWud5c5MyxJ6biilIrTWoVbHkZ/kmgsGueaCIa+uWaZchBDCTUhCF0IIN+GqCX2C1QFYQK65YJBrLhjy5Jpdcg5dCCHE9Vx1hC6EEOIaktCFEMJNOHVCV0p1UkrtU0pFK6Vey+J1pZQae+X1SKVUEyvidCQ7rrnvlWuNVEqtV0o1tCJOR8rpmjMd11QplaGUejA/48sL9lyzUqq9Umq7Umq3UmpVfsfoaHZ8bxdTSi1SSu24cs15U7U1nyilJiulziildmXzuuPzl9baKX9hSvUeBKoDPsAOIOiaY7oAv2E6Jt0B/GV13PlwzS2BEle+7lwQrjnTcSswVT8ftDrufPh7Lo7p21v5yuOyVsedD9f8BvDxla/LAOcBH6tjz8U1twWaALuyed3h+cuZR+hXm1NrrVOBf5pTZ3a1ObXWeiNQXClVIb8DdaAcr1lrvV5rfeHKw42Y7lCuzJ6/Z4BngV+AM/kZXB6x55ofBuZqrY8CaK1d/brtuWYNBCilFFAEk9DT8zdMx9Far8ZcQ3Ycnr+cOaFn13j6Zo9xJTd7PU9ifsK7shyvWSlVCegGjMc92PP3XAsooZT6Uym1RSn1WL5FlzfsueavgLqY9pU7gee01rb8Cc8SDs9fdjW4sIjDmlO7ELuvRynVAZPQW+dpRHnPnmv+LzBMa51hBm8uz55r9gJCgDDAH9iglNqotd6f18HlEXuuuSOwHbgTuB1YqpRao7W+mMexWcXh+cuZE7pzNKfOX3Zdj1IqGJgIdNZan8un2PKKPdccCsy8ksxLA12UUula6/n5EqHj2fu9Hau1TgKSlFKrgYaAqyZ0e675CeAjbSaYo5VSh4E6wKb8CTHfOTx/OfOUi3M0p85fOV6zUqoyMBd41IVHa5nleM1a62pa66pa66rAHGCQCydzsO97ewHQRinlpZQqBDQH9uRznI5kzzUfxfyPBKVUOaA2cChfo8xfDs9fTjtC187UnDqf2HnNw4FSwNdXRqzp2oUr1dl5zW7FnmvWWu9RSi0BIgEbMFFrneXyN1dg59/ze8AUpdROzHTEMK21y5bVVUrNANoDpZVSMcA7gDfkXf6Srf9CCOEmnHnKRQghxE2QhC6EEG5CEroQQrgJSehCCOEmJKELIYSbkIQuhBBuQhK6EEK4if8HJM+d1hEDbqwAAAAASUVORK5CYII=\n",
      "text/plain": [
       "<Figure size 432x288 with 1 Axes>"
      ]
     },
     "metadata": {
      "needs_background": "light"
     },
     "output_type": "display_data"
    }
   ],
   "source": [
    "plt.plot(x,np.polyval(coefs,x),'--v',label='approximation')\n",
    "plt.plot(x,points,'--o',label='data')\n",
    "plt.plot(x,x,color='red')\n",
    "plt.legend();"
   ]
  },
  {
   "cell_type": "code",
   "execution_count": 208,
   "id": "90430255-0ecc-4d1f-afab-6f148d495f9b",
   "metadata": {},
   "outputs": [
    {
     "data": {
      "text/plain": [
       "array([ 0.385, -0.522,  0.912,  0.225,  0.   ])"
      ]
     },
     "execution_count": 208,
     "metadata": {},
     "output_type": "execute_result"
    }
   ],
   "source": [
    "np.round(coefs, decimals = 3)"
   ]
  },
  {
   "cell_type": "markdown",
   "id": "1af835e1-9477-472e-bd63-2b36f1e9fb97",
   "metadata": {},
   "source": [
    "**Polynomial:**\n",
    "f(x)=0.384x<sup><small>4</sup></small>-0.522x<sup><small>3</sup></small>+0.912x<sup><small>2</sup></small>+0.225x"
   ]
  },
  {
   "cell_type": "code",
   "execution_count": 241,
   "id": "782e6835-a89c-4573-b72d-31dfc50fb1c8",
   "metadata": {},
   "outputs": [],
   "source": [
    "def L(x):\n",
    "    return 0.384*x**4-0.522*x**3+0.912*x**2+0.225*x"
   ]
  },
  {
   "cell_type": "code",
   "execution_count": 242,
   "id": "08e7462c-ae42-4e13-a9b3-b35a7cf64c4e",
   "metadata": {},
   "outputs": [],
   "source": [
    "def E(x):\n",
    "    return x #y=x(as it's a perfect match)"
   ]
  },
  {
   "cell_type": "code",
   "execution_count": 243,
   "id": "9fc5d238-b0a8-4804-895b-02cb00c0790f",
   "metadata": {},
   "outputs": [
    {
     "data": {
      "text/plain": [
       "array([0. , 0.2, 0.4, 0.6, 0.8, 1. ])"
      ]
     },
     "execution_count": 243,
     "metadata": {},
     "output_type": "execute_result"
    }
   ],
   "source": [
    "x=np.array(x)\n",
    "x"
   ]
  },
  {
   "cell_type": "code",
   "execution_count": 244,
   "id": "03e1fc18-3bc8-47ef-b9ca-e7b97e1c6e35",
   "metadata": {},
   "outputs": [
    {
     "data": {
      "text/plain": [
       "[<matplotlib.lines.Line2D at 0x7fd64bb2eac0>]"
      ]
     },
     "execution_count": 244,
     "metadata": {},
     "output_type": "execute_result"
    },
    {
     "data": {
      "image/png": "iVBORw0KGgoAAAANSUhEUgAAAXQAAAD4CAYAAAD8Zh1EAAAAOXRFWHRTb2Z0d2FyZQBNYXRwbG90bGliIHZlcnNpb24zLjQuMywgaHR0cHM6Ly9tYXRwbG90bGliLm9yZy/MnkTPAAAACXBIWXMAAAsTAAALEwEAmpwYAAAiqElEQVR4nO3deXxU9b3/8dcnk5U1CGFJMIIQwiKyhVUEFBW0VhCxBVyq171ia29/XLW31f601t5ra6tWRKpoe6uguC8obVWKgixBloAsBmQJBAlb2ENm5nv/SMoNEMgAk5xZ3s/Hg4eZcw5z3l8S3nw9cxZzziEiItEvwesAIiISHip0EZEYoUIXEYkRKnQRkRihQhcRiRGJXu24WbNmrk2bNl7tXkQkKi1atGi7cy6junWeFXqbNm3Iz8/3avciIlHJzDacaJ0OuYiIxAgVuohIjFChi4jECBW6iEiMUKGLiMSIGs9yMbMpwJXANufcedWsN+BJ4ArgAHCTc+7LcAcVEYlqkwbC1oLjl7fsCnd+HpZdhDJDfwkYfpL1lwM5lb9uB54981giIrFlXWoXytzRc+gyl8i61C5h20eNhe6cmw3sPMkmI4C/uArzgHQzaxWugCIiseDe4ktx2FHLgiTw4+LLwraPcBxDzwI2VXldVLnsOGZ2u5nlm1l+SUlJGHYtIhIdCkrTWB5sw78eQVHmEpkeGMTy0tSw7SMchW7VLKv2qRnOucnOuTznXF5GRrVXroqIxKRx9RaQ5/uaYGVlBkngaf8oMtPTwraPcBR6EXB2ldetgS1heF8RkZiwZfFH/DLwNPODHXk1MISgM6YHBrEvqSkThuWGbT/hKPR3gRutQj+g1DlXHIb3FRGJeof27KDhO//GBstk1eDnmFb/eha6XKbXH8djo7oyske1R6hPSyinLU4FhgDNzKwIeAhIAnDOTQJmUHHKYiEVpy3eHLZ0IiJRLrVRU77M+zWN2/XhB50684Oh3YHRvFcL+zKvHhKdl5fndLdFEYlV5ft2UrQ6n7a9wncWC4CZLXLO5VW3zrPb54qIxCpXfpCNE0fQcv8aijMX0apV6zrZry79FxEJp2CQNc+Oo92BZczu+Is6K3NQoYuIhI9zrHxpPLk7P+GDVuMZPubuOt29Cl1EJEy+nvMWnTa+zN8bXcOwWx+h4lZXdUfH0EVEwqRd/5HM2rqVgd+9jURf3c+XNUMXETlDRUs+Zuv6r0jwJTBk9A9JS0nyJIcKXUTkDOxYu4j0t6/n27/egVengf+LCl1E5DTt/fYb3F9Hs8+lknrt5Do/Zn4sFbqIyGko27uD0j9dRUrwIJu/8z/k5nbyOpIKXUTkdKx4+X4yyrew+IJn6NVnoNdxAJ3lIiJyWnLGPc6iBd9h0CUjvY5yhGboIiKhco6v3nuSg3t30bBROgMiqMxBhS4iErIVb/yazoseZMHrT3gdpVoqdBGREKz5xxS6LP9v5qYOou91D3odp1oqdBGRGmzI/5C2n/0/lvm60OWHr5Ca7M2FQzVRoYuInIQL+LEZE9iYkEnGbW/QuFFDryOdkM5yERE5CfMlwg1vQABatWzldZyT0gxdRKQah/bsYMnUX+KCAbLb5tKuffge5lxbVOgiIscIHD7Ipokj6LzqKVYtm+91nJCp0EVEqnDBAKsmjiXnUAFzuj5Kp+4DvI4UMhW6iMi/OEfBC3fTZfen/OPse7ho9F1eJzolKnQRkUrF65aTW/Q6s5pcw8U3Pex1nFOms1xERCq1ateVFVe/T/8uvUjw4IlDZyr6EouIhNk3Cz9k6fvPAtClez9SkiLzwqGaqNBFJK5tXbOIjA/+jYaLnuHQoYNexzkjKnQRiVu7i7/BN/Va9pNKwvVvkJqa5nWkM6JCF5G4dLB0B6XPjyA1eIDtI16mTbvIv3CoJip0EYlLBZ+8TEv/ZlYOnkSXHtFzrvnJ6CwXEYlLfa7+EV93uog+Hbt6HSVsNEMXkfjhHF/+eQLrlswCICeGyhxU6CISRxa/+it6fjOZzXNf9TpKrQip0M1suJmtNrNCM7u/mvWNzew9M1tqZivM7ObwRxUROX3LZ75Aj1W/ZX69QfS7/Wmv49SKGgvdzHzAM8DlQGdgrJl1Pmazu4GvnHPdgCHA78wsOcxZRUROy9fzP6DD3AksTzyP8+6eSlJibH58GMoMvQ9Q6Jxb55w7DEwDRhyzjQMampkBDYCdgD+sSUVETtOuOS9RlJBFyzvepH79Bl7HqTWh/DOVBWyq8roI6HvMNn8E3gW2AA2B7zvngse+kZndDtwOkJ2dfTp5RUROWffxL7Nrx7c0y2jhdZRaFcoM3apZ5o55PQxYAmQC3YE/mlmj436Tc5Odc3nOubyMjIxTjCoiErr9u7ez5Pej2Ll1A8nJybRodbbXkWpdKIVeBFT9k2hNxUy8qpuBN12FQuAboGN4IoqInJrysgNsenYknXfPoqiwwOs4dSaUQl8I5JhZ28oPOsdQcXilqo3AUAAzawHkAuvCGVREJBQuGGDFM+PoWFZAfs/HOH/glV5HqjM1HkN3zvnNbDwwE/ABU5xzK8zszsr1k4BHgJfMrICKQzT3Oee212JuEZHjOceiyXeRt+dTZre5l0Ej7vA6UZ0K6dwd59wMYMYxyyZV+XoLcFl4o4mInJp9e3fT9NsvmNPsWi688SGv49S52DwZU0TiUoNGTSi/ZxZnN2qMJcTfhfDxN2IRiTmrv/iAJX8YTXnZAZqc1ZTEGL1wqCYqdBGJahtXLiBz5i2k71nF/n37vI7jKRW6iEStks1rSX11DAdII/kHb5HetLnXkTylQheRqLRndwn7XxhJmjvAnmumkXlOjteRPKdCF5GotGXdKuoH9/DNJZPJ6Xrs3UjiU3x+ciAi0cs5MKNjzwvZ16GA8xscd5eRuKUZuohED+dY8Nyd5P/lfnCOBirzo6jQRSRqzH/lYfpsnUb53u04d+w9AkWFLiJR4csP/kTfr59gUYPB9Lnzubi8cKgm+hMRkYi3Ys77nLfgPr5K6kqXu6fi8/m8jhSRVOgiEvFKt65jky+brLveIjWtvtdxIpbOchGRiOWCASzBx4BrfkTZlbeTkpLqdaSIphm6iESk0p3b+PrX/fjq01cBVOYhUKGLSMQ5dHA/m5+9mjblawkmpXkdJ2qo0EUkogQCAZb/cRydy5dT0Pu/OG/gVV5HihoqdBGJGM455k+6i7z9s5if8xN6XXmb15GiigpdRCJGMBjE+ctY0OJ79B0Xf08cOlM6y0VEIoL/cBmJySkMuOfFiqtAzbyOFHU0QxcRzy377F22/qYbxWsLsIQEEnTh0GnRDF1E6t6kgbC14MjL8yv/G/joNrh7njeZYoBm6CJS59aldqHMHT2fPOx8bKjfzaNEsUGFLiJ17t7iS4Gjj5EH8PHj4su8CRQjVOgiUucKStN4IzCQgKso9TKXyPTAIJaX6mrQM6FCF5E644JBFrz+O9o1CvB7/2jKKz/GC5LA0/5RZKbrqtAzoUIXkTpx6MA+8n9/LX2WP8yP0+ewL6kZ0wODCTpjemAQ+5KaMmFYrtcxo5rOchGRWrdt8zeUvngtvf1fM7/tD7nyhkcJLC1mykdj6XCwiOn1x/HY8K6M7JHlddSoZl49xikvL8/l5+d7sm8RqTuFSz8n/a3rSHOHKBz4BN0uvc7rSFHNzBY55/KqW6cZuojUqnpNWvFtYhb1r3mKbp2q7SEJEx1DF5GwC/jLWfzW73EBP5nZ7ej8s89pozKvdSEVupkNN7PVZlZoZvefYJshZrbEzFaY2T/DG1NEosXe3SWs/O0weiz9JQWzXgPQA53rSI2HXMzMBzwDXAoUAQvN7F3n3FdVtkkHJgLDnXMbzax5LeUVkQi2ec1i3LSxdAhsY27X/8+AoeO8jhRXQjmG3gcodM6tAzCzacAI4Ksq24wD3nTObQRwzm0Ld1ARiWxf/fN1sj8dzyGSWT18KgP6D/M6UtwJ5f+DsoBNVV4XVS6rqgPQxMxmmdkiM7uxujcys9vNLN/M8ktKSk4vsYhEJH9KYzYmtqHspo/pqjL3RCiFXt1NiY891zER6AV8BxgG/MLMOhz3m5yb7JzLc87lZWRknHJYEYkshw/uY/nMFwA4v9+ldHxgLlltcjxOFb9COeRSBJxd5XVrYEs122x3zu0H9pvZbKAbsCYsKUUk4uzaso5dU66lU/la1p/TgzYde5Lg04efXgrlT38hkGNmbc0sGRgDvHvMNu8AF5pZopnVA/oCK8MbVUQixfrFH+MmDyGjfDML+0+kTceeXkcSQpihO+f8ZjYemAn4gCnOuRVmdmfl+knOuZVm9hGwDAgCzzvnltdmcBHxRsH7z9Bx4S8otuYcGP0G/br29jqSVArpSlHn3AxgxjHLJh3z+nHg8fBFE5FItOdQkILk7px92ytkN2/pdRypQpf+i0iNDu4uoWjlXHL6j+CC0fdQ7r+LpETVR6TRd0RETmpb4ZcEXxlDi8Bedne8gPQmzVTmEUofSYvICRXOnkaDv15OQuAway77M+lNmnkdSU5C/8yKyPGcY/nUn3Pemj+yMiGH1BumktdW55dHOhW6iBzPjF27tvN5vaGcd8eLpDdu7HUiCYEKXUSO2LN1HXt2bqN15370u+MZwEhK9HkdS0KkY+giAsCWpf8g+Nxg/K/fit/vJykxUWUeZVToIsLXHzxJxlvfY5drQOlVL5Kos1iikr5rInHM+Q+z+sW76Lj5dRYk5pF5y8t0a6WLhaKVCl0kjgWccXD7ej5KH8OFdzxF/bQUryPJGVChi8ShnWsXYQ0yaNIim5x7P6BbSgoJCdXdKVuiiY6hi8SZTZ+/Qtr/XM7aP98FQIO0VJV5jNAMXSReBIMUvvaftF81kQLLpcHVv/c6kYSZCl0kDgQP7WXd5Otpv3MWH6deStc7XqB5E10sFGtU6CJxYO+BMny71vJ2y3u4/JZfkpKkv/qxSN9VkRi2Y+VnNDq3F43Pakb5vV8wolEDzHS8PFbpQ1GRWOQcGz58gsavXsX8lx4AoFnjhirzGKcZukis8R9m7Z/vpN2mN5jj603mlfd7nUjqiApdJIb4S7eyZfK1tNu/jHcajWXIHU/SuL4uFooXKnSRGLLl262k7tvE6+c+wsjrx5Po01HVeKJCF4kBO1d/xlkdBpLdoTtF4xcxOqOp15HEA/rnWySaBYOsf+1+zpp6JfPeeRaA1irzuKUZukiUcodK2fj89bTZPpsZycPpduF1XkcSj6nQRaJQ2bdfs+uFa8gq28TU5j9mxK2/oF5KktexxGMqdJEotGbVMlqV7eLtrhP5/qgxurmWACp0kejhHHvX59OwbW+6Dr6Gte0HMjqrhdepJILoQ1GRaOAvY+OLN1PvpUtZsfBTANqpzOUYmqGLRLhgaTFb/zSa7H3Lea3BOC7u2M/rSBKhVOgiEezgNws49NcxpPv38Zfsh/n+D8aTkujzOpZEKBW6SARbPu8jWvoTmNXvf7hh+GW6uZaclApdxGuTBsLWguOXt+xKr9tms2rjzVzd9uy6zyVRJ6QPRc1suJmtNrNCMzvhrdvMrLeZBcxsdPgiisS41n0I2NHnkDsH+5p0JsGXQGeVuYSoxkI3Mx/wDHA50BkYa2adT7DdfwEzwx1SJJZ92PRGyoNHL/Pj42+Zd3gTSKJWKDP0PkChc26dc+4wMA0YUc129wBvANvCmE8k5v1q1g5WBs/GuYrX5c7H1MBF/G5OqbfBJOqEUuhZwKYqr4sqlx1hZlnA1cCkk72Rmd1uZvlmll9SUnKqWUVi0pbSQ2xyzQlS8YGnHx9P+0exZfdBj5NJtAml0Kv7WN0d8/oPwH3OucDJ3sg5N9k5l+ecy8vIyAgxokjscftK2DTlBxQu+YzM9DR+4r+bVwJDCTpjemAQJaSTmZ7mdUyJMqEUehFQ9VOZ1sCWY7bJA6aZ2XpgNDDRzEaGI6BITAkG2f7Pyex/ogctNrzH4vn/ZMKwXJKTknnKfzULXS5P+0eRluRjwrBcr9NKlAnltMWFQI6ZtQU2A2OAcVU3cM61/dfXZvYS8L5z7u3wxRSJfmWbC9g+7W6y9i4l33Vi04BfcfUlFx95qtDjM1czZveDZKan8diwXEb2yKrhHUWOVmOhO+f8ZjaeirNXfMAU59wKM7uzcv1Jj5uLSIXlH79C2z1rebnVfVw69ifkNf6/Qyoje2SpwOWMmXPHHg6vG3l5eS4/P9+TfYvUlZ2L32X7QUeHASMoO3SAgnWbyeuc43UsiWJmtsg5l1fdOl0pKlILyndtouiVH9G25BMKfT0I9ruKlNR6KnOpVbp9rkg4Bfxs/OC3lD/Zm1bbPuP19H+j1Z1v6wEUUic0QxcJo8I5r9N+4SN8kdAD/7DHuaZPnm6oJXVGhS5yhoIHdlO0ch7ZvYbTbuD3+MceY8Clo/SMT6lzKnSR0+Ucmz5/mfqf/oL0wCFK2hSQ0bQZl1z5fa+TSZxSoYuchn3Fayieeg85e+bxFeeydfBjXHRWU69jSZxToYucoj3bNpL83AW0dD4+aH0vA8c+QOcGqV7HElGhi4SqdPPXNM7KoVHzbGbl/JSMXiP5TseOXscSOUKnLYrU4FDpNpZPvJ76k/tQuHQOAEOuu58uKnOJMJqhi5yIc6z8cCKZC35NrjvIrGZjOf/sTl6nEjkhFbpINVwwyKrfXkanAwtZ7uuE//InuCRvgNexRE5KhS5Shb/sIL7kVCwhgV2ZF/KpbzgXjL6X5CT9VZHIp59SkUqrPnuTxp/cz9b+D9LjsusZcP1DXkcSOSUqdIl7O7duYMMrP6bHnk/ZYFkk1Nf55BKdVOgS1xa98zS5ix+lk/PzWfad5I19iHPq1fM6lshpUaFLXHMksC6lM41GP8WFOed5HUfkjKjQJa6U7t7JVy//B3ZWO/qNfYBe370LvnsXlqBLMiT66adY4oILBlnwwYuU/aEXfbe9Dns2A2AJCSpziRmaoUvM27B2JTtf+xF9yhawzncue77zEv16DvY6lkjYqdAl5h3Ytp6csgLyO06gx+j78CXqPuUSm1ToEpMWzJ7B4Q0LGXjDQ3Tqfzn7O68gr7FOR5TYpkKXmLJ5cxFrp05g0L4ZFCe05PDBn5Kc1oD6KnOJA/o0SGLC4fIAH0/7A2mT+zFg70cszb6RZhPySU5r4HU0kTqjGbrEhG1FhQxc+SuKUnPwX/sM3dr39DqSSJ3TDF2i1radu5g1/Y8AtG6by84x79Huvjk0V5lLnFKhS9QJBB1/f+8VDj3VlyEr/pOiFXMBaNWpP+iccoljOuQiUWXF6jVsf+OnXHp4NsWJWWy5Yhqtu+g+5SKgQpcocqjsMA2mXkV7trOq03hyR/0cS0rzOpZIxFChS2SZNBC2Fhy32LU4j9S75lA+7L8pP6cDHTP1PE+RY+mAo0SUdaldKHNHzzOcg/X7fAC0738VDVTmItUKqdDNbLiZrTazQjO7v5r115nZsspfc82sW/ijSjy4t/hSHHbUsgAJPFB+i0eJRKJHjYVuZj7gGeByoDMw1sw6H7PZN8Bg59z5wCPA5HAHlfhQUJpGiWt85HW58/FK4GLm72nmYSqR6BDKDL0PUOicW+ecOwxMA0ZU3cA5N9c5t6vy5TygdXhjSqw6UFbORx++y6xfX0VpSRGZ6Wn8svxGDlcedvHj42n/KDLT9eGnSE1CKfQsYFOV10WVy07kFuDD6laY2e1mlm9m+SUlJaGnlJizeftu3vvLE6x7rC/D599AXnk+e9YvYcKwXOYm9uXVwBCCzpgeGMS+pKZMGJbrdWSRiBfKWS5WzTJX7YZmF1FR6AOrW++cm0zl4Zi8vLxq30NiX8n2HSQ+3ZPv2m62JmWzodcjZF90Mw1SGnJ25TZTPhpLh4NFTK8/jseGd2Vkj5PNIUQEQiv0Ijjy9wwqDqdsOXYjMzsfeB643Dm3IzzxJBYc9geZN/sj3IZ5DL75YTKaNWVp7o0kdB5Ay27DwY6eM4zskcXIHqOB0bznTWSRqBRKoS8EcsysLbAZGAOMq7qBmWUDbwI3OOfWhD2lRKWde/aRP+NFMlf/mUHua/ZSn7J995LS4Cy6jXvE63giMafGQnfO+c1sPDAT8AFTnHMrzOzOyvWTgAeBpsBEq5ht+Z1zebUXWyLd/E/fo+2s8VxmuylObM2abg/R/pJbSUhr5HU0kZgV0pWizrkZwIxjlk2q8vWtwK3hjSbRJBh05H/xMY2SjY69h9K2Y3d2LO5C+YV3kdXrO7TSTbNEap0u/Zczsv/AQfI/fImmK16kT3A1K+vlQe+hNG91Ns3/fUbNbyAiYaNCl9P2z2m/o+OqpxnMLrb4Mll+/s/IHX6H17FE4pYKXULmnGPFos/I6dydlHqNSKacHfXas/eCH9K+/0gydVhFxFMqdKlRWdkhFv/tZRoufZ7z/F/x5caH6Dnq3+n//fvg+Fv7iIhHVOhyQocPl7Pw5Ydot2Ea/djBFmvJl50m0OmSmyo2sOquORMRr6jQ5Tjbi9fTrFUbkpISaVb0d3akZrOj76/pPGg0mT79yIhEKv3tFAAC/nIKPn6F5EV/4tyyVey9dwUNm7TgnJ9+Qmq9hl7HE5EQqNDj3N7d21n5/lNkr32F7q6EYjJYknM3XX3JACpzkSiiQo9TgfIyfEkpbCveRJ/CJ1me3I3NPR+i29AxtEpK8jqeiJwGFXoccQE/q2ZPh/nPUZbUiO4/fZd2nXqw/vovOK/9sc8sEZFoo0KPA4f27GDVhxNpufovdApuo5hmFLa6/sj6NipzkZigQo8Di197lP5FL7DM14W1PR+g17DruDAlxetYIhJmKvRYEwyw/ou3KJv7LP5et9Dl4nG0u+JelmweSbe8CzGdOy4Ss1ToMcK/fxdrZk7irBUv0SawlWLXlHV79gLQPDOb5pnZHicUkdqmQo8RRb+/iM7+b1ia0IkVXf+d3sNv4IL69byOJSJ1SIUeySYNhK0Fxy9v0ZXivAns/uLPtL/jrySl1KO4z88orncWfQYMxZegwyoi8UiFHsla9yHw7Sp8rvzIogA+yratpdUHN5LgmlC4cgmdug+g/2Xf8zCoiEQC3e80gn3Y9EbKg0cv8xFgXbAlH+Y+SsJPltOp+wBvwolIxNEMPdIE/Oxbv4jiJX+j0bK/sdFlcA7bSDE/fmfMDPTm0fr3M3fsUK+TikiEUaF7zbkjt6Fd8cKdtCl6hwbuADlA0LVmVqA7Nyb+HYBykvil/ya2lx7yMLCIRCoVel1zjgObV7B58UyC62aTvmc1zR4owJeYxLZgI7akDeFw6wto2e0S7nl3M1tKD5Fmh7nO9zHTA4MoIZ2s9DSvRyEiEUiFXtucq/ivGSv/NoWW8x6mSXAXOUCRa8aKtB503bWDjIyWXHTbfx/1W//jcEMeeLOAp8qvpkNCEU/7R5GW5GPCsNy6H4eIRDwVei04tH0DmxZ9xOHCWbTYsYBtlzxJ5wFX4m+QybKk7hzIGkDTrpdwXpfzuTj5xN+CkT2yAHh85mrG7H6QzPQ0HhuWe2S5iEhVKvRwCAYgwcf2TWvwv3QVLQPF5AA7XENWpnSjPqkAdB0wHAYMP6W3HtkjSwUuIiFRoZ+Gw3tK2PTlTPavnkXTknlsaXYBve98jsYt27AwsT1LM79P485D6dy9LwPTdBMsEakbKvQQOH8ZllhRzKsfH0ru/nzaAftcKiuTurD/rC4AJCUlM+CB9z1MKiLxTIVeDf/BPWxc8gmlKz+h8dZ5pPj3kPXgKgC2NulNUeNe1M8dQm6PwfRuVN/jtCIiFVToQKDsAAlJqVhCAov++nPO/3oi51qAw87H6sRc1mcMJ+PwYZKTkxl862+8jisiUq24LPRgeRkbCj5n5/J/UG/LXM49tIIt3/uQtp1748vqwZzSsaTkDKFd3sV0Paup13FFREISF4XuAuWUHTpIav1GfL3oE7LeG0NbyjjHGYW+tsxvOors5IpDJ90vugYuusbjxCIipy4mC90FA2xalc+2ZX8nedMczt2/hOVtbqLfTY/RvF03Fp91BQnnDqZNr8vo0CqLDl4HFhEJg5AK3cyGA08CPuB559xvjllvleuvAA4ANznnvgxr0hPdG7xlV9zts9m7u4RGZ7Ug6PdT8mgHst0OsoFN1oqC9KHUa9cfgMbpTbngRy+FNZqISCSosdDNzAc8A1wKFAELzexd59xXVTa7HMip/NUXeLbyv2GzLrULWW4lKeY/sszvEti2bQcpD7dlR2JzGv18IQmJiaxtM5ZvGmXSuudltM5uz9l6jqaIxIFQZuh9gELn3DoAM5sGjACqFvoI4C/OOQfMM7N0M2vlnCsOV9B7iy/lNd44almiBUkO7GNdo94E2w45snzADx4N125FRKJGKA+4yAI2VXldVLnsVLfBzG43s3wzyy8pKTmloAWlaUwPDKbMVfwb5HcJvO3vT++yZ+n90zfpO+pHp/R+IiKxJpRCr+54hTuNbXDOTXbO5Tnn8jIyMkLJd0RmehpP+a/GVe6qnEQe9d9AZroehCwiAqEVehFwdpXXrYEtp7HNGZkwLJd9Sc2YHhhM0BnTA4PYl9RUt5IVEakUyjH0hUCOmbUFNgNjgHHHbPMuML7y+HpfoDScx8/h/24lO+WjsXQ4WMT0+uN4bHhX3YlQRKRSjYXunPOb2XhgJhWnLU5xzq0wszsr108CZlBxymIhFact3lwbYStuJTsaGM17tbEDEZEoFtJ56M65GVSUdtVlk6p87YC7wxtNRERORSjH0EVEJAqo0EVEYoQKXUQkRqjQRURihFV8nunBjs1KgA2n+dubAdvDGCcaaMzxQWOOD2cy5nOcc9VemelZoZ8JM8t3zuV5naMuaczxQWOOD7U1Zh1yERGJESp0EZEYEa2FPtnrAB7QmOODxhwfamXMUXkMXUREjhetM3QRETmGCl1EJEZEdKGb2XAzW21mhWZ2fzXrzcyeqly/zMx6epEznEIY83WVY11mZnPNrJsXOcOppjFX2a63mQXMbHRd5qsNoYzZzIaY2RIzW2Fm/6zrjOEWws92YzN7z8yWVo65Vu7aWlfMbIqZbTOz5SdYH/7+cs5F5C8qbtW7FjgXSAaWAp2P2eYK4EMqnpjUD5jvde46GPMAoEnl15fHw5irbPcJFXf9HO117jr4PqdT8dze7MrXzb3OXQdj/hnwX5VfZwA7gWSvs5/BmAcBPYHlJ1gf9v6K5Bn6kYdTO+cOA/96OHVVRx5O7ZybB6SbWau6DhpGNY7ZOTfXOber8uU8Kp4OFc1C+T4D3AO8AWyry3C1JJQxjwPedM5tBHDORfu4QxmzAxqamQENqCh0f93GDB/n3GwqxnAiYe+vSC70sD2cOoqc6nhuoeJf+GhW45jNLAu4GphEbAjl+9wBaGJms8xskZndWGfpakcoY/4j0ImKx1cWAD92zgXrJp4nwt5fIT3gwiNhezh1FAl5PGZ2ERWFPrBWE9W+UMb8B+A+51ygYvIW9UIZcyLQCxgKpAFfmNk859ya2g5XS0IZ8zBgCXAx0A74u5l95pzbU8vZvBL2/orkQo+Ih1PXsZDGY2bnA88DlzvndtRRttoSypjzgGmVZd4MuMLM/M65t+skYfiF+rO93Tm3H9hvZrOBbkC0FnooY74Z+I2rOMBcaGbfAB2BBXUTsc6Fvb8i+ZDLkYdTm1kyFQ+nfveYbd4Fbqz8tLgftfBw6jpW45jNLBt4E7ghimdrVdU4ZudcW+dcG+dcG+B14IdRXOYQ2s/2O8CFZpZoZvWoePj6yjrOGU6hjHkjFf9Hgpm1AHKBdXWasm6Fvb8idobuIujh1HUlxDE/CDQFJlbOWP0uiu9UF+KYY0ooY3bOrTSzj4BlQBB43jlX7elv0SDE7/MjwEtmVkDF4Yj7nHNRe1tdM5sKDAGamVkR8BCQBLXXX7r0X0QkRkTyIRcRETkFKnQRkRihQhcRiREqdBGRGKFCFxGJESp0EZEYoUIXEYkR/wsdROCKwVanJQAAAABJRU5ErkJggg==\n",
      "text/plain": [
       "<Figure size 432x288 with 1 Axes>"
      ]
     },
     "metadata": {
      "needs_background": "light"
     },
     "output_type": "display_data"
    }
   ],
   "source": [
    "plt.plot(x,L(x), '--o')\n",
    "plt.plot(x,points,'--v')"
   ]
  },
  {
   "cell_type": "markdown",
   "id": "6aae2caa-fcd0-4aaf-bddf-4210f89f91f0",
   "metadata": {},
   "source": [
    "**Let's plot out our graph concerning what Gini Index is:**"
   ]
  },
  {
   "cell_type": "code",
   "execution_count": 252,
   "id": "354875d5-cf0d-4458-a69d-f8196c8be1e2",
   "metadata": {},
   "outputs": [
    {
     "data": {
      "text/plain": [
       "<matplotlib.legend.Legend at 0x7fd64af236a0>"
      ]
     },
     "execution_count": 252,
     "metadata": {},
     "output_type": "execute_result"
    },
    {
     "data": {
      "image/png": "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\n",
      "text/plain": [
       "<Figure size 432x288 with 1 Axes>"
      ]
     },
     "metadata": {
      "needs_background": "light"
     },
     "output_type": "display_data"
    }
   ],
   "source": [
    "plt.plot(x, L(x), '--o', label='Lorenz curve')\n",
    "plt.plot(x, E(x), color = 'red', label='Equality')\n",
    "plt.fill_between(x, L(x), E(x), color ='pink')\n",
    "plt.fill_between(x, L(x), color ='lightblue')\n",
    "plt.text(0.3,0.2, 'A1', size = 14)\n",
    "plt.text(0.6,0.1, 'Gini Index', size = 14)\n",
    "plt.legend()"
   ]
  },
  {
   "cell_type": "markdown",
   "id": "dd56d91b-c871-4139-a5ca-002e0e803fe0",
   "metadata": {},
   "source": [
    "**As far as we see on the graph, the GI is the integral below the Lorenz curve.**\n\t",
    "Hence, the formula is as follows: <img src="https://img-lb.fireden.net/sci/image/1473/54/1473545995318.png">"
   ]
  },
  {
   "cell_type": "code",
   "execution_count": 232,
   "id": "094f1126-754a-41ae-be7c-f95c3866879c",
   "metadata": {},
   "outputs": [],
   "source": [
    "def A1(x):\n",
    "    return E(x)-L(x)"
   ]
  },
  {
   "cell_type": "code",
   "execution_count": 233,
   "id": "b61f907e-8e4c-49ea-8cb2-2f8b4a9657c3",
   "metadata": {},
   "outputs": [
    {
     "data": {
      "text/plain": [
       "0.13719999999999996"
      ]
     },
     "execution_count": 233,
     "metadata": {},
     "output_type": "execute_result"
    }
   ],
   "source": [
    "quad(A1, 0,1)[0]"
   ]
  },
  {
   "cell_type": "code",
   "execution_count": 235,
   "id": "292efb16-1eaf-4522-8c5c-9bb5092973e4",
   "metadata": {},
   "outputs": [
    {
     "data": {
      "text/plain": [
       "0.2743999999999999"
      ]
     },
     "execution_count": 235,
     "metadata": {},
     "output_type": "execute_result"
    }
   ],
   "source": [
    "Gini_Index=2*quad(A1,0,1)[0]\n",
    "Gini_Index"
   ]
  },
  {
   "cell_type": "markdown",
   "id": "def07acf-2182-4cf2-8d18-d536974f1edf",
   "metadata": {},
   "source": [
    "To recap, let's clarify what intuition the Gini Index can deliver. If it is >0.5 it means that the distribution is broad. In case of salaries it indicates that one group accumulates way more wealthiness that the other group (or groups). In contrast, lower GI (<0,5) considers more income density within the population. Thus, our case demonstrates rather low distribution. It means that the most number of people get approximately the same salary. "
   ]
  }
 ],
 "metadata": {
  "kernelspec": {
   "display_name": "Python 3 (ipykernel)",
   "language": "python",
   "name": "python3"
  },
  "language_info": {
   "codemirror_mode": {
    "name": "ipython",
    "version": 3
   },
   "file_extension": ".py",
   "mimetype": "text/x-python",
   "name": "python",
   "nbconvert_exporter": "python",
   "pygments_lexer": "ipython3",
   "version": "3.9.7"
  }
 },
 "nbformat": 4,
 "nbformat_minor": 5
}
